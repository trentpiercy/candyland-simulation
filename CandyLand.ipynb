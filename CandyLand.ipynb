{
 "cells": [
  {
   "cell_type": "markdown",
   "metadata": {},
   "source": [
    "## Candyland Simulation\n",
    "- Simulate candy land games and display graphical output\n",
    "    - Percentage of games completed before deck running out\n",
    "    - Length of games by number of cards drawn\n",
    "\n",
    "- Board Setup\n",
    "    - There are 126 colored spaces following a repeated six-color pattern of (red, purple, yellow, blue, orange, green) plus an extra red space at the end.\n",
    "    - There are two shortcuts(5-->59 and 34--47)\n",
    "    - Three spaces make you lose your turn (48, 86, 121). This means the other player gets to go twice in a row.\n",
    "    - There are six special character spaces (total of 133 board spaces).\n",
    "    - Character locations are as follows: Plumpy: 9, Mr. Mint: 18, Mr. Gumdrop: 43, Nana Nutbread: 75, Princess Lolly: 96, Queen Frostine: 104\n",
    "    - There are 72 cards in the deck - 1 for each of the six characters, 9 singles and 2 doubles for each color\n",
    "    - Modified rules (per my son) is that players may be on the same space\n",
    "<img style=\"float: left\" src=\"https://vignette.wikia.nocookie.net/candy-land/images/3/39/Candyland_Game_Board.jpg/revision/latest?cb=20130615165758&format=original\" width=\"700\"/>"
   ]
  },
  {
   "cell_type": "code",
   "execution_count": 1,
   "metadata": {},
   "outputs": [],
   "source": [
    "import random\n",
    "\n",
    "CARD_COLORS = [\"r\", \"p\", \"y\", \"b\", \"o\", \"g\"]\n",
    "CARD_TYPES = [\"s\"]*9 + [\"d\"]*2\n",
    "SPECIAL_CARDS = [\"plumpy\", \"mint\", \"gumdrop\", \"nutbread\", \"lolly\", \"frostine\"]\n",
    "\n",
    "def shuffle_deck():\n",
    "    DECK = [(color, single_double) for color in CARD_COLORS for single_double in CARD_TYPES]\\\n",
    "    + [(special, \"s\") for special in SPECIAL_CARDS]\n",
    "    random.shuffle(DECK)\n",
    "    return DECK"
   ]
  },
  {
   "cell_type": "code",
   "execution_count": 2,
   "metadata": {},
   "outputs": [],
   "source": [
    "def generate_board():\n",
    "    b = CARD_COLORS * 21\n",
    "    b += \"r\"\n",
    "\n",
    "    special_items = [\"plumpy\", \"mint\", \"gumdrop\", \"nutbread\", \"lolly\", \"frostine\", \"rpybog\", \"rpybog\"]\n",
    "    special_locations = [8, 17, 42, 75, 96, 104, 133, 134]\n",
    "\n",
    "    for i in range(8):\n",
    "        b.insert(special_locations[i], special_items[i])\n",
    "\n",
    "    d = {}\n",
    "    i = 0\n",
    "    for x in b:\n",
    "        i += 1\n",
    "        d[i] = x\n",
    "\n",
    "    return d\n",
    "\n",
    "BOARD = generate_board()"
   ]
  },
  {
   "cell_type": "code",
   "execution_count": 3,
   "metadata": {},
   "outputs": [],
   "source": [
    "class Player():\n",
    "    def __init__(self):\n",
    "        self.board_space = 0\n",
    "        self.win = False\n",
    "        self.skip_turn = False\n",
    "    \n",
    "    def move(self):\n",
    "        for i in BOARD.items():\n",
    "            if i[0] > self.board_space and self.draw[0] in i[1]:\n",
    "                return i[0]\n",
    "\n",
    "    def play_card(self, DECK):\n",
    "        self.draw = DECK.pop()\n",
    "        \n",
    "        # Color Card Draw\n",
    "        if len(self.draw[0]) == 1:\n",
    "            self.board_space = self.move()\n",
    "            if self.draw[1] == \"d\":\n",
    "                self.board_space = self.move()\n",
    "\n",
    "        # Special Card Draw\n",
    "        else:\n",
    "            for i in BOARD.items():\n",
    "                if i[1] == self.draw[0]:\n",
    "                    self.board_space = i[0]\n",
    "                    break\n",
    "        \n",
    "        if self.board_space == 134 or self.board_space == 135:\n",
    "            self.win = True\n",
    "        elif self.board_space == 48 or self.board_space == 86 or self.board_space == 121:\n",
    "            self.skip_turn = True\n",
    "        elif self.board_space == 5:\n",
    "            self.board_space = 59\n",
    "        elif self.board_space == 34:\n",
    "            self.board_space = 47\n",
    "\n",
    "        return DECK"
   ]
  },
  {
   "cell_type": "code",
   "execution_count": 4,
   "metadata": {},
   "outputs": [],
   "source": [
    "def play_2p(loops):\n",
    "    game_len_list = []\n",
    "    run_out_counter = 0\n",
    "    for _ in range(loops):\n",
    "        p1 = Player()\n",
    "        p2 = Player()\n",
    "        DECK = shuffle_deck()\n",
    "        \n",
    "        while True:\n",
    "            if DECK == []:\n",
    "                run_out_counter += 1\n",
    "                break\n",
    "\n",
    "            if not p1.skip_turn:\n",
    "                DECK = p1.play_card(DECK)\n",
    "                if p1.win:\n",
    "                    game_len_list += [72-len(DECK)]\n",
    "                    break\n",
    "            else:\n",
    "                p1.skip_turn = False\n",
    "                \n",
    "\n",
    "            if DECK == []:\n",
    "                run_out_counter += 1\n",
    "                break\n",
    "                \n",
    "            if not p2.skip_turn:\n",
    "                DECK = p2.play_card(DECK)\n",
    "                if p2.win:\n",
    "                    game_len_list += [72-len(DECK)]\n",
    "                    break\n",
    "            else:\n",
    "                p2.skip_turn = False\n",
    "\n",
    "    return [run_out_counter, game_len_list]"
   ]
  },
  {
   "cell_type": "code",
   "execution_count": 5,
   "metadata": {},
   "outputs": [],
   "source": [
    "import matplotlib.pyplot as plt\n",
    "import statistics\n",
    "\n",
    "def stats(x, n, players, bins):\n",
    "    all_drawn = x[0]\n",
    "    game_lens = x[1]\n",
    "\n",
    "    plt.hist(game_lens, bins=bins)\n",
    "    plt.ylabel(\"Frequency\")\n",
    "    plt.xlabel(\"Total Card Plays\")\n",
    "    plt.xticks([x for x in range(0, 80, 5)])\n",
    "    plt.title(\"{0} Games of Candyland ({1} Players)\".format(n, players))\n",
    "\n",
    "    plt.show()\n",
    "\n",
    "    print(\"Maximum plays: {0}\\nMinimum: {1}\\nAverage: {2}\\nMedian: {3}\\nStandard Deviation: {4}\"\n",
    "          .format(max(game_lens), min(game_lens), statistics.mean(game_lens), statistics.median(game_lens), statistics.stdev(game_lens)))\n",
    "    \n",
    "    \n",
    "    labels = \"Game Completed\", \"Out of Cards\"\n",
    "    sizes = [n-all_drawn, all_drawn]\n",
    "\n",
    "    plt.pie(sizes, labels=labels, autopct='%1.2f%%', shadow=True)\n",
    "\n",
    "    plt.axis('equal')\n",
    "    plt.show()\n",
    "\n",
    "    print(\"In {0} games out of {1} ({2}%) all cards were drawn. ({3} Players)\".format(all_drawn, n, (all_drawn/n)*100, players))"
   ]
  },
  {
   "cell_type": "code",
   "execution_count": 8,
   "metadata": {},
   "outputs": [],
   "source": [
    "n = 100000\n",
    "x = play_2p(n)"
   ]
  },
  {
   "cell_type": "code",
   "execution_count": 9,
   "metadata": {},
   "outputs": [
    {
     "data": {
      "image/png": "[encoded data removed]",
      "text/plain": [
       "<matplotlib.figure.Figure at 0x1f78bd36198>"
      ]
     },
     "metadata": {},
     "output_type": "display_data"
    },
    {
     "name": "stdout",
     "output_type": "stream",
     "text": [
      "Maximum plays: 72\n",
      "Minimum: 7\n",
      "Average: 40.82438292007933\n",
      "Median: 40\n",
      "Standard Deviation: 14.975854096335418\n"
     ]
    },
    {
     "data": {
      "image/png": "[encoded data removed]",
      "text/plain": [
       "<matplotlib.figure.Figure at 0x1f789b5fa58>"
      ]
     },
     "metadata": {},
     "output_type": "display_data"
    },
    {
     "name": "stdout",
     "output_type": "stream",
     "text": [
      "In 10749 games out of 100000 (10.749%) all cards were drawn. (2 Players)\n"
     ]
    }
   ],
   "source": [
    "stats(x, n, 2, 66)"
   ]
  }
 ],
 "metadata": {
  "kernelspec": {
   "display_name": "Python 3",
   "language": "python",
   "name": "python3"
  },
  "language_info": {
   "codemirror_mode": {
    "name": "ipython",
    "version": 3
   },
   "file_extension": ".py",
   "mimetype": "text/x-python",
   "name": "python",
   "nbconvert_exporter": "python",
   "pygments_lexer": "ipython3",
   "version": "3.6.2"
  }
 },
 "nbformat": 4,
 "nbformat_minor": 2
}
